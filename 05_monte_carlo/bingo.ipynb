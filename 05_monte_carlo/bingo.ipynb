{
 "cells": [
  {
   "cell_type": "markdown",
   "metadata": {},
   "source": [
    "This was not an exercise from the Sutton and Barto book. I decided to use Monte Carlo simulation to answer the question: Which is more likely, a bingo using the free space or a bingo that doesn't use the free space.\n",
    "\n",
    "There are 8 possible bingos that don't use the free space and only 4 that use it, but the ones that use it only require 4 numbers to be hit, while the ones that don't use it require 5 numbers to be hit.\n",
    "\n",
    "Results: Depending on how we account for multiple bingos (one using free space and one not using free space) happening at once, we get about 55% without free space and 50% with free space."
   ]
  },
  {
   "cell_type": "code",
   "execution_count": null,
   "metadata": {},
   "outputs": [],
   "source": []
  },
  {
   "cell_type": "code",
   "execution_count": 1,
   "metadata": {},
   "outputs": [],
   "source": [
    "import numpy as np"
   ]
  },
  {
   "cell_type": "code",
   "execution_count": 8,
   "metadata": {},
   "outputs": [
    {
     "name": "stdout",
     "output_type": "stream",
     "text": [
      "0\n",
      "1000\n",
      "2000\n",
      "3000\n",
      "4000\n",
      "5000\n",
      "6000\n",
      "7000\n",
      "8000\n",
      "9000\n"
     ]
    },
    {
     "data": {
      "text/plain": [
       "(0.5532, 0.5028)"
      ]
     },
     "execution_count": 8,
     "metadata": {},
     "output_type": "execute_result"
    }
   ],
   "source": [
    "num_trials = 10000\n",
    "\n",
    "bingos_without_free_space = 0\n",
    "bingos_with_free_space = 0\n",
    "\n",
    "for n in range(num_trials):\n",
    "    if n % (num_trials//10) == 0:\n",
    "        print(n)\n",
    "    # Populate bingo card\n",
    "    bingo_card = np.zeros((5,5))\n",
    "    for i in range(5):\n",
    "        num_pool = np.arange(15*i+1,15*i+16)\n",
    "        bingo_card[:, i] = np.random.choice(num_pool,5,replace=False)\n",
    "    bingo_card[2,2] = 0\n",
    "    bingo_card = bingo_card.astype(int)\n",
    "\n",
    "    # Draw numbers\n",
    "    number_order = np.random.permutation(np.arange(1, 76))\n",
    "    drawn_numbers = {0}\n",
    "\n",
    "    # Check for bingo\n",
    "    bingo = False\n",
    "    for number in number_order:\n",
    "        drawn_numbers.add(number)\n",
    "\n",
    "        # Check for bingo that uses the free space\n",
    "        if set(np.diag(bingo_card)).issubset(drawn_numbers) or \\\n",
    "            set(np.diag(np.fliplr(bingo_card))).issubset(drawn_numbers) or \\\n",
    "                set(bingo_card[2, :]).issubset(drawn_numbers) or \\\n",
    "                    set(bingo_card[:, 2]).issubset(drawn_numbers):\n",
    "            bingo = True\n",
    "            bingos_with_free_space += 1\n",
    "\n",
    "         # Check for bingo that doesn't use the free space\n",
    "        if sum([set(bingo_card[j, :]).issubset(drawn_numbers) or set(bingo_card[:, j]).issubset(drawn_numbers) for j in[0,1,3,4]]):\n",
    "            bingo = True\n",
    "            bingos_without_free_space += 1\n",
    "        \n",
    "        if bingo:\n",
    "            break\n",
    "        \n",
    "        \n",
    "\n",
    "       \n",
    "\n",
    "        \n",
    "\n",
    "bingos_without_free_space /= num_trials\n",
    "bingos_with_free_space /= num_trials\n",
    "\n",
    "bingos_without_free_space, bingos_with_free_space"
   ]
  },
  {
   "cell_type": "code",
   "execution_count": null,
   "metadata": {},
   "outputs": [],
   "source": []
  },
  {
   "cell_type": "code",
   "execution_count": null,
   "metadata": {},
   "outputs": [],
   "source": []
  },
  {
   "cell_type": "code",
   "execution_count": null,
   "metadata": {},
   "outputs": [],
   "source": []
  },
  {
   "cell_type": "code",
   "execution_count": null,
   "metadata": {},
   "outputs": [],
   "source": []
  },
  {
   "cell_type": "code",
   "execution_count": null,
   "metadata": {},
   "outputs": [],
   "source": []
  },
  {
   "cell_type": "code",
   "execution_count": null,
   "metadata": {},
   "outputs": [],
   "source": []
  }
 ],
 "metadata": {
  "kernelspec": {
   "display_name": "Python 3 (ipykernel)",
   "language": "python",
   "name": "python3"
  },
  "language_info": {
   "codemirror_mode": {
    "name": "ipython",
    "version": 3
   },
   "file_extension": ".py",
   "mimetype": "text/x-python",
   "name": "python",
   "nbconvert_exporter": "python",
   "pygments_lexer": "ipython3",
   "version": "3.8.18"
  }
 },
 "nbformat": 4,
 "nbformat_minor": 2
}
