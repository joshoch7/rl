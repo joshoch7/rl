{
 "cells": [
  {
   "cell_type": "code",
   "execution_count": 3,
   "id": "cb90d449",
   "metadata": {},
   "outputs": [],
   "source": [
    "import numpy as np\n",
    "import random"
   ]
  },
  {
   "cell_type": "code",
   "execution_count": 30,
   "id": "0b786392",
   "metadata": {},
   "outputs": [],
   "source": [
    "num_trials = 100000\n",
    "max_counts = []\n",
    "for trial in range(num_trials):\n",
    "    d = random.choices(range(10), k=10)\n",
    "    counts = [d.count(i) for i in range(10)]\n",
    "    max_count = max(counts)\n",
    "    max_counts.append(max_count)\n",
    "    \n",
    "max_count_percent = [max_counts.count(i)*100/num_trials for i in range(1, 11)]"
   ]
  },
  {
   "cell_type": "code",
   "execution_count": 31,
   "id": "08dc50d0",
   "metadata": {},
   "outputs": [
    {
     "data": {
      "text/plain": [
       "[0.033, 39.453, 47.77, 11.09, 1.51, 0.131, 0.011, 0.001, 0.001, 0.0]"
      ]
     },
     "execution_count": 31,
     "metadata": {},
     "output_type": "execute_result"
    }
   ],
   "source": [
    "max_count_percent"
   ]
  },
  {
   "cell_type": "code",
   "execution_count": 34,
   "id": "18beb1a2",
   "metadata": {},
   "outputs": [
    {
     "name": "stdout",
     "output_type": "stream",
     "text": [
      "0.03628800000000001\n"
     ]
    }
   ],
   "source": [
    "c1 = 1\n",
    "for i in range(1, 11):\n",
    "    c1 *= i/10\n",
    "print(c1*100)"
   ]
  },
  {
   "cell_type": "code",
   "execution_count": null,
   "id": "d8141620",
   "metadata": {},
   "outputs": [],
   "source": []
  }
 ],
 "metadata": {
  "kernelspec": {
   "display_name": "Python 3 (ipykernel)",
   "language": "python",
   "name": "python3"
  },
  "language_info": {
   "codemirror_mode": {
    "name": "ipython",
    "version": 3
   },
   "file_extension": ".py",
   "mimetype": "text/x-python",
   "name": "python",
   "nbconvert_exporter": "python",
   "pygments_lexer": "ipython3",
   "version": "3.8.18"
  }
 },
 "nbformat": 4,
 "nbformat_minor": 5
}
