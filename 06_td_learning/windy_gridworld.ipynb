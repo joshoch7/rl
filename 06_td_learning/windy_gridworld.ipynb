{
 "cells": [
  {
   "cell_type": "code",
   "execution_count": 297,
   "id": "f645952d",
   "metadata": {},
   "outputs": [],
   "source": [
    "import numpy as np\n",
    "import random\n",
    "import pandas as pd\n",
    "\n",
    "np.set_printoptions(suppress=True)"
   ]
  },
  {
   "cell_type": "code",
   "execution_count": 298,
   "id": "61c1cbcd",
   "metadata": {},
   "outputs": [],
   "source": [
    "#Grid parameters\n",
    "\n",
    "grid_width = 10\n",
    "grid_height = 7\n",
    "\n",
    "starting_state = (0, 3)\n",
    "terminal_state = (7, 3)\n",
    "\n",
    "wind_levels = [0, 0, 0, 1, 1, 1, 2, 2, 1, 0]"
   ]
  },
  {
   "cell_type": "code",
   "execution_count": 299,
   "id": "49babd3c",
   "metadata": {},
   "outputs": [],
   "source": [
    "#Action set\n",
    "action_set = [\"left-down\", \"left-middle\", \"left-up\", \\\n",
    "              \"middle-down\", \"middle-up\", \\\n",
    "              \"right-down\", \"right-middle\", \"right-up\"]\n",
    "action_set.append(\"middle-middle\")"
   ]
  },
  {
   "cell_type": "code",
   "execution_count": 300,
   "id": "9593aa97",
   "metadata": {},
   "outputs": [],
   "source": [
    "#Algo parameters\n",
    "alpha = 0.5\n",
    "eps = 0.01\n",
    "num_episodes = 100000"
   ]
  },
  {
   "cell_type": "code",
   "execution_count": 310,
   "id": "7d609813",
   "metadata": {},
   "outputs": [],
   "source": [
    "#Initialze Q(S,A) randomly\n",
    "q = np.random.rand(grid_width, grid_height, len(action_set))*-10\n",
    "\n",
    "#Set Q for the terminal state to 0.\n",
    "q[terminal_state[0], terminal_state[1], :] = 0"
   ]
  },
  {
   "cell_type": "code",
   "execution_count": 311,
   "id": "ce8da852",
   "metadata": {},
   "outputs": [],
   "source": [
    "def action_effect(state, action, stochastic_wind=False):\n",
    "    \n",
    "    #Parse action\n",
    "    horizontal_action, vertical_action = action.split(\"-\")\n",
    "    \n",
    "    #Set wind\n",
    "    wind_effect = wind_levels[state[0]]\n",
    "    if stochastic_wind:\n",
    "        r = np.random.rand()\n",
    "        if r < 1/3:\n",
    "            wind_effect -= 1\n",
    "        elif r < 2/3:\n",
    "            wind_effect += 1\n",
    "\n",
    "    #Move horizontally\n",
    "    if horizontal_action == \"left\":\n",
    "        horizontal_position = max(state[0] - 1, 0)\n",
    "    elif horizontal_action == \"middle\":\n",
    "        horizontal_position = state[0]\n",
    "    elif horizontal_action == \"right\":\n",
    "        horizontal_position = min(state[0] + 1, grid_width - 1)\n",
    "\n",
    "    #Move vertically and add wind\n",
    "    if vertical_action == \"down\":\n",
    "        vertical_position = min(max(state[1] - 1 + wind_effect, 0), grid_height - 1)\n",
    "    elif vertical_action == \"middle\":\n",
    "        vertical_position = min(state[1] + wind_effect, grid_height - 1)\n",
    "    elif vertical_action == \"up\":\n",
    "        vertical_position = min(state[1] + 1 + wind_effect, grid_height - 1)\n",
    "    next_state = (horizontal_position, vertical_position)\n",
    "    \n",
    "    return next_state\n"
   ]
  },
  {
   "cell_type": "code",
   "execution_count": 312,
   "id": "60c16cfb",
   "metadata": {},
   "outputs": [
    {
     "data": {
      "text/plain": [
       "(5, 6)"
      ]
     },
     "execution_count": 312,
     "metadata": {},
     "output_type": "execute_result"
    }
   ],
   "source": [
    "action_effect((4,6), \"right-up\")"
   ]
  },
  {
   "cell_type": "code",
   "execution_count": 313,
   "id": "14a28a63",
   "metadata": {},
   "outputs": [],
   "source": [
    "def choose_action(state, greedy=False):\n",
    "    best_action = action_set[q.argmax(axis=2)[state[0], state[1]]]\n",
    "    if not greedy and np.random.rand() < eps:\n",
    "        return random.choice(action_set)\n",
    "    else:\n",
    "        return best_action"
   ]
  },
  {
   "cell_type": "code",
   "execution_count": 314,
   "id": "8e9c2c83",
   "metadata": {},
   "outputs": [
    {
     "data": {
      "text/plain": [
       "'middle-middle'"
      ]
     },
     "execution_count": 314,
     "metadata": {},
     "output_type": "execute_result"
    }
   ],
   "source": [
    "choose_action((3,3))"
   ]
  },
  {
   "cell_type": "code",
   "execution_count": 315,
   "id": "661e1faf",
   "metadata": {
    "scrolled": true
   },
   "outputs": [],
   "source": [
    "#For each episode\n",
    "for e in range(num_episodes):\n",
    "    \n",
    "    #Set starting state\n",
    "    state = starting_state\n",
    "    \n",
    "    #Choose starting action from policy\n",
    "    action = choose_action(state)\n",
    "    \n",
    "    r = 0\n",
    "    while state != terminal_state:\n",
    "        r -= 1\n",
    "        \n",
    "        #Take wind and then action A\n",
    "        next_state = action_effect(state, action, stochastic_wind=False)\n",
    "\n",
    "        #Choose A prime from policy\n",
    "        next_action = choose_action(next_state)\n",
    "        \n",
    "        #Set Q(s,a)\n",
    "        q[state[0], state[1], action_set.index(action)] = \\\n",
    "            q[state[0], state[1], action_set.index(action)] + \\\n",
    "            alpha * (-1 + q[next_state[0], next_state[1], action_set.index(next_action)] - \\\n",
    "                     q[state[0], state[1], action_set.index(action)])\n",
    "        \n",
    "        #Set S prime to S\n",
    "        state = next_state\n",
    "        \n",
    "        #Set A prime to A\n",
    "        action = next_action\n",
    "    "
   ]
  },
  {
   "cell_type": "code",
   "execution_count": 316,
   "id": "f3309602",
   "metadata": {
    "scrolled": false
   },
   "outputs": [
    {
     "name": "stdout",
     "output_type": "stream",
     "text": [
      "(0, 3)\n",
      "right-down\n",
      "(1, 2)\n",
      "right-down\n",
      "(2, 1)\n",
      "right-down\n",
      "(3, 0)\n",
      "right-down\n",
      "(4, 0)\n",
      "right-down\n",
      "(5, 0)\n",
      "right-middle\n",
      "(6, 1)\n",
      "right-middle\n",
      "-7\n"
     ]
    }
   ],
   "source": [
    "#Set starting state\n",
    "state = starting_state\n",
    "\n",
    "#Choose starting action from policy\n",
    "action = choose_action(state, greedy=True)\n",
    "\n",
    "r = 0\n",
    "while state != terminal_state:\n",
    "    print(state)\n",
    "    print(action)\n",
    "    r -= 1\n",
    "\n",
    "    #Take wind and then action A\n",
    "    next_state = action_effect(state, action, stochastic_wind=False)\n",
    "\n",
    "    #Choose A prime from policy\n",
    "    next_action = choose_action(next_state, greedy=True)\n",
    "\n",
    "#     #Set Q(s,a)\n",
    "#     q[state[0], state[1], action_set.index(action)] = \\\n",
    "#         q[state[0], state[1], action_set.index(action)] + \\\n",
    "#         alpha * (-1 + q[next_state[0], next_state[1], action_set.index(next_action)] - \\\n",
    "#                  q[state[0], state[1], action_set.index(action)])\n",
    "\n",
    "    #Set S prime to S\n",
    "    state = next_state\n",
    "\n",
    "    #Set A prime to A\n",
    "    action = next_action\n",
    "print(r)"
   ]
  },
  {
   "cell_type": "code",
   "execution_count": 317,
   "id": "eae73971",
   "metadata": {},
   "outputs": [
    {
     "data": {
      "text/plain": [
       "array([-9.68321763, -9.95923736, -9.7482902 , -9.24483275, -9.78070063,\n",
       "       -7.96287472, -9.62146822, -9.66021521, -9.75145249])"
      ]
     },
     "execution_count": 317,
     "metadata": {},
     "output_type": "execute_result"
    }
   ],
   "source": [
    "q[1,3,:]"
   ]
  },
  {
   "cell_type": "code",
   "execution_count": 318,
   "id": "edc51a7e",
   "metadata": {},
   "outputs": [
    {
     "data": {
      "text/html": [
       "<div>\n",
       "<style scoped>\n",
       "    .dataframe tbody tr th:only-of-type {\n",
       "        vertical-align: middle;\n",
       "    }\n",
       "\n",
       "    .dataframe tbody tr th {\n",
       "        vertical-align: top;\n",
       "    }\n",
       "\n",
       "    .dataframe thead th {\n",
       "        text-align: right;\n",
       "    }\n",
       "</style>\n",
       "<table border=\"1\" class=\"dataframe\">\n",
       "  <thead>\n",
       "    <tr style=\"text-align: right;\">\n",
       "      <th></th>\n",
       "      <th>0</th>\n",
       "      <th>1</th>\n",
       "      <th>2</th>\n",
       "      <th>3</th>\n",
       "      <th>4</th>\n",
       "      <th>5</th>\n",
       "      <th>6</th>\n",
       "      <th>7</th>\n",
       "      <th>8</th>\n",
       "      <th>9</th>\n",
       "    </tr>\n",
       "  </thead>\n",
       "  <tbody>\n",
       "    <tr>\n",
       "      <th>0</th>\n",
       "      <td>-9.312601</td>\n",
       "      <td>-7.699336</td>\n",
       "      <td>-5.085456</td>\n",
       "      <td>-4.000000</td>\n",
       "      <td>-3.000000</td>\n",
       "      <td>-2.000000</td>\n",
       "      <td>-1.000000</td>\n",
       "      <td>-1.926817</td>\n",
       "      <td>-2.842981</td>\n",
       "      <td>-3.006888</td>\n",
       "    </tr>\n",
       "    <tr>\n",
       "      <th>1</th>\n",
       "      <td>-8.218078</td>\n",
       "      <td>-6.635924</td>\n",
       "      <td>-5.000000</td>\n",
       "      <td>-4.037982</td>\n",
       "      <td>-3.006361</td>\n",
       "      <td>-4.036025</td>\n",
       "      <td>-1.000000</td>\n",
       "      <td>-3.065658</td>\n",
       "      <td>-0.786842</td>\n",
       "      <td>-3.742171</td>\n",
       "    </tr>\n",
       "    <tr>\n",
       "      <th>2</th>\n",
       "      <td>-8.236824</td>\n",
       "      <td>-6.050552</td>\n",
       "      <td>-7.506546</td>\n",
       "      <td>-9.267021</td>\n",
       "      <td>-7.101467</td>\n",
       "      <td>-4.311704</td>\n",
       "      <td>-1.000000</td>\n",
       "      <td>-1.000000</td>\n",
       "      <td>-2.000102</td>\n",
       "      <td>-4.592263</td>\n",
       "    </tr>\n",
       "    <tr>\n",
       "      <th>3</th>\n",
       "      <td>-7.252764</td>\n",
       "      <td>-7.962875</td>\n",
       "      <td>-8.528399</td>\n",
       "      <td>-8.519621</td>\n",
       "      <td>-9.021433</td>\n",
       "      <td>-8.001777</td>\n",
       "      <td>-7.007658</td>\n",
       "      <td>0.000000</td>\n",
       "      <td>-1.000000</td>\n",
       "      <td>-3.670505</td>\n",
       "    </tr>\n",
       "    <tr>\n",
       "      <th>4</th>\n",
       "      <td>-9.063312</td>\n",
       "      <td>-9.420858</td>\n",
       "      <td>-8.418935</td>\n",
       "      <td>-9.370724</td>\n",
       "      <td>-9.199839</td>\n",
       "      <td>-8.000229</td>\n",
       "      <td>-7.000027</td>\n",
       "      <td>-6.001216</td>\n",
       "      <td>-4.117522</td>\n",
       "      <td>-2.392487</td>\n",
       "    </tr>\n",
       "    <tr>\n",
       "      <th>5</th>\n",
       "      <td>-9.949292</td>\n",
       "      <td>-10.181505</td>\n",
       "      <td>-7.725756</td>\n",
       "      <td>-10.932075</td>\n",
       "      <td>-10.109218</td>\n",
       "      <td>-8.028639</td>\n",
       "      <td>-7.000000</td>\n",
       "      <td>-6.000001</td>\n",
       "      <td>-5.000054</td>\n",
       "      <td>-4.096038</td>\n",
       "    </tr>\n",
       "    <tr>\n",
       "      <th>6</th>\n",
       "      <td>-10.816503</td>\n",
       "      <td>-10.941439</td>\n",
       "      <td>-10.052258</td>\n",
       "      <td>-11.510854</td>\n",
       "      <td>-9.424909</td>\n",
       "      <td>-8.082949</td>\n",
       "      <td>-7.033083</td>\n",
       "      <td>-6.000000</td>\n",
       "      <td>-5.311064</td>\n",
       "      <td>-5.014615</td>\n",
       "    </tr>\n",
       "  </tbody>\n",
       "</table>\n",
       "</div>"
      ],
      "text/plain": [
       "           0          1          2          3          4         5         6  \\\n",
       "0  -9.312601  -7.699336  -5.085456  -4.000000  -3.000000 -2.000000 -1.000000   \n",
       "1  -8.218078  -6.635924  -5.000000  -4.037982  -3.006361 -4.036025 -1.000000   \n",
       "2  -8.236824  -6.050552  -7.506546  -9.267021  -7.101467 -4.311704 -1.000000   \n",
       "3  -7.252764  -7.962875  -8.528399  -8.519621  -9.021433 -8.001777 -7.007658   \n",
       "4  -9.063312  -9.420858  -8.418935  -9.370724  -9.199839 -8.000229 -7.000027   \n",
       "5  -9.949292 -10.181505  -7.725756 -10.932075 -10.109218 -8.028639 -7.000000   \n",
       "6 -10.816503 -10.941439 -10.052258 -11.510854  -9.424909 -8.082949 -7.033083   \n",
       "\n",
       "          7         8         9  \n",
       "0 -1.926817 -2.842981 -3.006888  \n",
       "1 -3.065658 -0.786842 -3.742171  \n",
       "2 -1.000000 -2.000102 -4.592263  \n",
       "3  0.000000 -1.000000 -3.670505  \n",
       "4 -6.001216 -4.117522 -2.392487  \n",
       "5 -6.000001 -5.000054 -4.096038  \n",
       "6 -6.000000 -5.311064 -5.014615  "
      ]
     },
     "metadata": {},
     "output_type": "display_data"
    }
   ],
   "source": [
    "display(pd.DataFrame(np.max(q, axis=2)).T)"
   ]
  },
  {
   "cell_type": "code",
   "execution_count": null,
   "id": "440b0a51",
   "metadata": {},
   "outputs": [],
   "source": []
  },
  {
   "cell_type": "code",
   "execution_count": null,
   "id": "7e5b296c",
   "metadata": {},
   "outputs": [],
   "source": []
  }
 ],
 "metadata": {
  "kernelspec": {
   "display_name": "Python 3 (ipykernel)",
   "language": "python",
   "name": "python3"
  },
  "language_info": {
   "codemirror_mode": {
    "name": "ipython",
    "version": 3
   },
   "file_extension": ".py",
   "mimetype": "text/x-python",
   "name": "python",
   "nbconvert_exporter": "python",
   "pygments_lexer": "ipython3",
   "version": "3.8.18"
  }
 },
 "nbformat": 4,
 "nbformat_minor": 5
}
