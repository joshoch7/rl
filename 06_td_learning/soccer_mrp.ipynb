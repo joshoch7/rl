{
 "cells": [
  {
   "cell_type": "code",
   "execution_count": 18,
   "id": "e79fe142",
   "metadata": {},
   "outputs": [],
   "source": [
    "import numpy as np\n",
    "import random"
   ]
  },
  {
   "cell_type": "code",
   "execution_count": 142,
   "id": "ff01dce0",
   "metadata": {},
   "outputs": [],
   "source": [
    "starting_states = [-2, -1, 0, 1, 2]\n",
    "num_trials=1000\n",
    "\n",
    "#Initialize rewards\n",
    "rewards = dict()\n",
    "for starting_state in starting_states:\n",
    "    rewards[starting_state] = []\n",
    "    \n",
    "\n",
    "\n",
    "for i in range(num_trials):\n",
    "    #initialize starting state\n",
    "    state = random.choice(starting_states)\n",
    "    states = []\n",
    "    \n",
    "    #Run MRP\n",
    "    while state > -3 and state < 3:\n",
    "        states.append(state)\n",
    "        if np.random.randint(1, 101) > 80:\n",
    "            state += 1\n",
    "        else:\n",
    "            state -= 1\n",
    "\n",
    "    #Find reward\n",
    "    if state == 3:\n",
    "        reward = 1\n",
    "    else:\n",
    "        reward = 0\n",
    "    \n",
    "    #load reward\n",
    "    for state in states:\n",
    "        rewards[state].append(reward)\n",
    "    \n",
    "mean_rewards = dict()\n",
    "for starting_state in starting_states:\n",
    "    mean_rewards[starting_state] = np.mean(rewards[starting_state])\n",
    "        "
   ]
  },
  {
   "cell_type": "code",
   "execution_count": 143,
   "id": "dc8c0b75",
   "metadata": {},
   "outputs": [
    {
     "name": "stdout",
     "output_type": "stream",
     "text": [
      "[0.0009, 0.0049, 0.0156, 0.0618, 0.264]\n",
      "[0.1667, 0.3333, 0.5, 0.6667, 0.8333]\n",
      "[1140, 1228, 1027, 696, 356]\n"
     ]
    }
   ],
   "source": [
    "print([np.round(i, 4) for i in mean_rewards.values()])\n",
    "print([np.round(i/6 + eps, 4) for i in range(1,6)])\n",
    "\n",
    "print([len(v) for v in rewards.values()])"
   ]
  },
  {
   "cell_type": "code",
   "execution_count": 50,
   "id": "395d0ada",
   "metadata": {},
   "outputs": [
    {
     "data": {
      "text/plain": [
       "1"
      ]
     },
     "execution_count": 50,
     "metadata": {},
     "output_type": "execute_result"
    }
   ],
   "source": []
  }
 ],
 "metadata": {
  "kernelspec": {
   "display_name": "Python 3 (ipykernel)",
   "language": "python",
   "name": "python3"
  },
  "language_info": {
   "codemirror_mode": {
    "name": "ipython",
    "version": 3
   },
   "file_extension": ".py",
   "mimetype": "text/x-python",
   "name": "python",
   "nbconvert_exporter": "python",
   "pygments_lexer": "ipython3",
   "version": "3.8.18"
  }
 },
 "nbformat": 4,
 "nbformat_minor": 5
}
